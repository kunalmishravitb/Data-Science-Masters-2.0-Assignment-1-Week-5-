{
 "cells": [
  {
   "cell_type": "markdown",
   "id": "f7cc93e3",
   "metadata": {},
   "source": [
    "## Q1. What is an Exception in python? Write the difference between Exceptions and Syntax errors."
   ]
  },
  {
   "cell_type": "markdown",
   "id": "8d4e15cc",
   "metadata": {},
   "source": [
    "In Python, an exception is an event that occurs during the execution of a program that disrupts the normal flow of instructions. When an exceptional condition or error is encountered, Python raises an exception, which can be caught and handled by the program. Exceptions provide a way to handle errors and exceptional situations in a structured and controlled manner.\n",
    "\n",
    "Syntax errors, on the other hand, are different from exceptions. Syntax errors occur when the code violates the rules of the Python language syntax. These errors are usually detected by the Python interpreter during the parsing of the code and prevent the program from executing. Syntax errors are also known as parsing errors or compile-time errors. They indicate that the code is not written correctly and needs to be fixed before the program can run.\n",
    "\n",
    "Here are the main differences between exceptions and syntax errors:\n",
    "\n",
    "1. Occurrence: Exceptions occur during the execution of a program, while syntax errors occur during the parsing or compilation phase before the program starts executing.\n",
    "\n",
    "2. Detection: Exceptions are detected and raised by Python at runtime when an error condition is encountered. Syntax errors are detected by the Python interpreter before the program starts executing.\n",
    "\n",
    "3. Impact on program execution: When an exception occurs, it interrupts the normal flow of the program and can be caught and handled using exception handling mechanisms. Syntax errors, however, prevent the program from running at all until the errors are fixed.\n",
    "\n",
    "4. Handling: Exceptions can be caught and handled using try-except blocks, allowing the program to gracefully recover from errors and continue executing. Syntax errors cannot be caught or handled since they prevent the program from running in the first place. Syntax errors must be fixed by correcting the code before running the program."
   ]
  },
  {
   "cell_type": "markdown",
   "id": "fbd05099",
   "metadata": {},
   "source": [
    "## Q2. What happens when an exception is not handled? Explain with an example."
   ]
  },
  {
   "cell_type": "markdown",
   "id": "abd71dac",
   "metadata": {},
   "source": [
    "When an exception is not handled in Python, it results in an error message being displayed and the program being terminated abruptly. This behavior is known as an \"unhandled exception.\" When an unhandled exception occurs, the program stops executing, and the error message provides information about the exception that was raised.\n",
    "\n",
    "Here's an example to illustrate what happens when an exception is not handled:"
   ]
  },
  {
   "cell_type": "code",
   "execution_count": 1,
   "id": "71c4b42f",
   "metadata": {},
   "outputs": [],
   "source": [
    "a = 20"
   ]
  },
  {
   "cell_type": "code",
   "execution_count": 2,
   "id": "af6e85e5",
   "metadata": {},
   "outputs": [
    {
     "ename": "ZeroDivisionError",
     "evalue": "division by zero",
     "output_type": "error",
     "traceback": [
      "\u001b[1;31m---------------------------------------------------------------------------\u001b[0m",
      "\u001b[1;31mZeroDivisionError\u001b[0m                         Traceback (most recent call last)",
      "Cell \u001b[1;32mIn[2], line 1\u001b[0m\n\u001b[1;32m----> 1\u001b[0m \u001b[43ma\u001b[49m\u001b[38;5;241;43m/\u001b[39;49m\u001b[38;5;241;43m0\u001b[39;49m\n",
      "\u001b[1;31mZeroDivisionError\u001b[0m: division by zero"
     ]
    }
   ],
   "source": [
    "a/0"
   ]
  },
  {
   "cell_type": "markdown",
   "id": "5cb0c465",
   "metadata": {},
   "source": [
    "As you can see, the program execution is halted, and the error message indicates that a 'ZeroDivisionError' occurred due to division by zero. If this exception were handled using a try-except block, you could gracefully handle the error and continue executing the program. However, without proper exception handling, the program terminates, and the error message helps identify the cause of the exception."
   ]
  },
  {
   "cell_type": "markdown",
   "id": "3df61ca5",
   "metadata": {},
   "source": [
    "## Q3. Which Python statements are used to catch and handle exceptions? Explain with an example."
   ]
  },
  {
   "cell_type": "markdown",
   "id": "2aa1ada2",
   "metadata": {},
   "source": [
    "In Python, the 'try-except' statement is used to catch and handle exceptions. The 'try' block contains the code that may raise an exception, and the 'except' block specifies the code to be executed when a specific exception is raised.\n",
    "\n",
    "Here's an example to demonstrate the usage of 'try-except' to catch and handle exceptions:"
   ]
  },
  {
   "cell_type": "code",
   "execution_count": 3,
   "id": "36ae674e",
   "metadata": {},
   "outputs": [
    {
     "name": "stdout",
     "output_type": "stream",
     "text": [
      "Error: Division by zero is not allowed!\n"
     ]
    }
   ],
   "source": [
    "def divide_numbers(a, b):\n",
    "    try:\n",
    "        result = a / b\n",
    "        print(\"The result is:\", result)\n",
    "    except ZeroDivisionError:\n",
    "        print(\"Error: Division by zero is not allowed!\")\n",
    "\n",
    "# Main program\n",
    "num1 = 10\n",
    "num2 = 0\n",
    "\n",
    "divide_numbers(num1, num2)"
   ]
  },
  {
   "cell_type": "markdown",
   "id": "7c3508fc",
   "metadata": {},
   "source": [
    "As you can see, instead of the program terminating with an unhandled exception, the code inside the 'except' block is executed, which prints an appropriate error message. The 'except' block is designed to handle the specific exception type specified after the 'except' keyword (in this case, 'ZeroDivisionError')."
   ]
  },
  {
   "cell_type": "markdown",
   "id": "84271946",
   "metadata": {},
   "source": [
    "## Q4. Explain with an example: (a)try and else (b)finally (c)raise"
   ]
  },
  {
   "cell_type": "markdown",
   "id": "6354cf1a",
   "metadata": {},
   "source": [
    "(a) try and else:\n",
    "\n",
    "The else block in a try-except statement is executed when no exceptions occur within the try block. It provides a way to specify code that should be executed if the code in the try block runs successfully without raising any exceptions.\n",
    "\n",
    "Here's an example:"
   ]
  },
  {
   "cell_type": "code",
   "execution_count": 4,
   "id": "f1a0aa51",
   "metadata": {},
   "outputs": [
    {
     "name": "stdout",
     "output_type": "stream",
     "text": [
      "The result is: 2.0\n"
     ]
    }
   ],
   "source": [
    "def divide_numbers(a, b):\n",
    "    try:\n",
    "        result = a / b\n",
    "    except ZeroDivisionError:\n",
    "        print(\"Error: Division by zero is not allowed!\")\n",
    "    else:\n",
    "        print(\"The result is:\", result)\n",
    "\n",
    "# Main program\n",
    "num1 = 10\n",
    "num2 = 5\n",
    "\n",
    "divide_numbers(num1, num2)"
   ]
  },
  {
   "cell_type": "markdown",
   "id": "3e587307",
   "metadata": {},
   "source": [
    "Since the division is valid (no division by zero), the 'try' block runs successfully, and the code in the 'else' block is executed."
   ]
  },
  {
   "cell_type": "markdown",
   "id": "b7761dc7",
   "metadata": {},
   "source": [
    "(b) finally:\n",
    "\n",
    "The finally block is used to specify code that should be executed regardless of whether an exception occurs or not. It ensures that certain cleanup or finalization tasks are performed, such as closing files or releasing resources, regardless of the outcome of the try block.\n",
    "\n",
    "Here's an example:"
   ]
  },
  {
   "cell_type": "code",
   "execution_count": 5,
   "id": "32e72e2d",
   "metadata": {},
   "outputs": [
    {
     "name": "stdout",
     "output_type": "stream",
     "text": [
      "Error: Division by zero is not allowed!\n",
      "Division operation completed.\n"
     ]
    }
   ],
   "source": [
    "def divide_numbers(a, b):\n",
    "    try:\n",
    "        result = a / b\n",
    "        print(\"The result is:\", result)\n",
    "    except ZeroDivisionError:\n",
    "        print(\"Error: Division by zero is not allowed!\")\n",
    "    finally:\n",
    "        print(\"Division operation completed.\")\n",
    "\n",
    "# Main program\n",
    "num1 = 10\n",
    "num2 = 0\n",
    "\n",
    "divide_numbers(num1, num2)"
   ]
  },
  {
   "cell_type": "markdown",
   "id": "cfc547f8",
   "metadata": {},
   "source": [
    "As you can see, even though an exception occurred, the code in the 'finally' block is executed after the 'except' block. This ensures that the \"Division operation completed\" message is always printed, indicating that the division operation has finished."
   ]
  },
  {
   "cell_type": "markdown",
   "id": "30b14a3e",
   "metadata": {},
   "source": [
    "(c) raise:\n",
    "\n",
    "The raise statement is used to manually raise an exception in Python. It allows you to explicitly generate and raise exceptions based on certain conditions or requirements in your code.\n",
    "\n",
    "Here's an example:"
   ]
  },
  {
   "cell_type": "code",
   "execution_count": 6,
   "id": "3f586be8",
   "metadata": {},
   "outputs": [
    {
     "name": "stdout",
     "output_type": "stream",
     "text": [
      "Error: Square root of a negative number is undefined.\n"
     ]
    }
   ],
   "source": [
    "def calculate_square_root(num):\n",
    "    if num < 0:\n",
    "        raise ValueError(\"Error: Square root of a negative number is undefined.\")\n",
    "    else:\n",
    "        return num ** 0.5\n",
    "\n",
    "# Main program\n",
    "try:\n",
    "    result = calculate_square_root(-9)\n",
    "    print(\"The square root is:\", result)\n",
    "except ValueError as error:\n",
    "    print(error)"
   ]
  },
  {
   "cell_type": "markdown",
   "id": "54d752dc",
   "metadata": {},
   "source": [
    "Since the input number (-9) is negative, the 'calculate_square_root()' function raises a 'ValueError' exception using the 'raise' statement. The exception is then caught in the 'except' block, and the custom error message is printed."
   ]
  },
  {
   "cell_type": "markdown",
   "id": "4e5c32c7",
   "metadata": {},
   "source": [
    "## Q5. What are Custom Exceptions in python? Why do we need Custom Exceptions? Explain with an example."
   ]
  },
  {
   "cell_type": "markdown",
   "id": "09542351",
   "metadata": {},
   "source": [
    "Custom exceptions in Python are user-defined exceptions that you can create by defining a new class that inherits from the built-in Exception class or its subclasses. These exceptions allow you to define and raise application-specific errors or exceptional conditions that are meaningful within the context of your program.\n",
    "\n",
    "We need custom exceptions in Python for the following reasons:\n",
    "\n",
    "(1) Specific error handling: Custom exceptions help in providing more specific and meaningful error messages that are relevant to your application. They allow you to differentiate between different types of errors or exceptional situations and handle them accordingly.\n",
    "\n",
    "(2) Modularity and readability: By creating custom exceptions, you can encapsulate the logic and behavior related to specific errors or exceptional cases in dedicated classes. This improves the modularity and readability of your code, making it easier to understand and maintain.\n",
    "\n",
    "(3) Exception hierarchy: Custom exceptions can be organized in a hierarchical structure, where specific exception classes can inherit from more general exception classes. This allows for a systematic and structured approach to exception handling, with different levels of specificity.\n",
    "\n",
    "Here's an example that demonstrates the usage of a custom exception in Python:"
   ]
  },
  {
   "cell_type": "code",
   "execution_count": 7,
   "id": "dfe43881",
   "metadata": {},
   "outputs": [
    {
     "name": "stdout",
     "output_type": "stream",
     "text": [
      "Insufficient funds. Tried to withdraw 200. Available balance is 100.\n"
     ]
    }
   ],
   "source": [
    "class InsufficientFundsError(Exception):\n",
    "    def __init__(self, amount, balance):\n",
    "        self.amount = amount\n",
    "        self.balance = balance\n",
    "        self.message = f\"Insufficient funds. Tried to withdraw {amount}. Available balance is {balance}.\"\n",
    "\n",
    "    def __str__(self):\n",
    "        return self.message\n",
    "\n",
    "def withdraw(amount, balance):\n",
    "    if amount > balance:\n",
    "        raise InsufficientFundsError(amount, balance)\n",
    "    else:\n",
    "        print(\"Withdrawal successful.\")\n",
    "\n",
    "# Main program\n",
    "balance = 100\n",
    "withdrawal_amount = 200\n",
    "\n",
    "try:\n",
    "    withdraw(withdrawal_amount, balance)\n",
    "except InsufficientFundsError as error:\n",
    "    print(error)"
   ]
  },
  {
   "cell_type": "markdown",
   "id": "dd11f1cb",
   "metadata": {},
   "source": [
    "In this example, we define a custom exception called 'InsufficientFundsError' that inherits from the built-in 'Exception' class. The exception class takes two parameters ('amount' and 'balance') to provide detailed information about the exception.\n",
    "\n",
    "The 'withdraw()' function checks if the withdrawal amount is greater than the available balance. If it is, it raises an 'InsufficientFundsError' exception with the appropriate error message.\n",
    "\n",
    "In the main program, we attempt to withdraw an amount that exceeds the available balance. When the exception is raised, it is caught in the 'except' block, and the custom error message is printed."
   ]
  },
  {
   "cell_type": "markdown",
   "id": "46585ebe",
   "metadata": {},
   "source": [
    "## Q6. Create a custom exception class. Use this class to handle an exception."
   ]
  },
  {
   "cell_type": "code",
   "execution_count": 8,
   "id": "89104102",
   "metadata": {},
   "outputs": [],
   "source": [
    "class validateage(Exception):\n",
    "    def __init__(self, msg):\n",
    "        self.msg = msg"
   ]
  },
  {
   "cell_type": "code",
   "execution_count": 9,
   "id": "46642835",
   "metadata": {},
   "outputs": [],
   "source": [
    "def validaetage(age):\n",
    "    if age < 0:\n",
    "        raise validateage(\"entered age is negative \")\n",
    "    elif age > 200:\n",
    "        raise validateage(\"entered age is very very high\")\n",
    "    else:\n",
    "        print(\"age is valid\")"
   ]
  },
  {
   "cell_type": "code",
   "execution_count": 10,
   "id": "8c22f64e",
   "metadata": {},
   "outputs": [
    {
     "name": "stdout",
     "output_type": "stream",
     "text": [
      "enter your age 56\n",
      "age is valid\n"
     ]
    }
   ],
   "source": [
    "try:\n",
    "    age = int(input(\"enter your age \"))\n",
    "    validaetage(age)\n",
    "except validateage as e:\n",
    "    print(e)"
   ]
  }
 ],
 "metadata": {
  "kernelspec": {
   "display_name": "Python 3 (ipykernel)",
   "language": "python",
   "name": "python3"
  },
  "language_info": {
   "codemirror_mode": {
    "name": "ipython",
    "version": 3
   },
   "file_extension": ".py",
   "mimetype": "text/x-python",
   "name": "python",
   "nbconvert_exporter": "python",
   "pygments_lexer": "ipython3",
   "version": "3.10.0"
  }
 },
 "nbformat": 4,
 "nbformat_minor": 5
}
